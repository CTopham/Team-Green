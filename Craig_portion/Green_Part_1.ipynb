{
 "cells": [
  {
   "cell_type": "code",
   "execution_count": null,
   "metadata": {
    "scrolled": false
   },
   "outputs": [],
   "source": [
    "import pandas as pd\n",
    "import numpy as np\n",
    "import os as os\n",
    "import csv\n",
    "import json\n",
    "csv_path = \"Resources/tmdb_5000_credits.csv\"\n",
    "Actors_pd = pd.read_csv(csv_path, encoding=\"utf-8\")\n",
    "Actors_pd.head()\n"
   ]
  },
  {
   "cell_type": "code",
   "execution_count": null,
   "metadata": {},
   "outputs": [],
   "source": [
    "actor_name = input (\"What actor would you like to know about?\")"
   ]
  },
  {
   "cell_type": "code",
   "execution_count": null,
   "metadata": {},
   "outputs": [],
   "source": [
    "selected_actor = Actors_pd[Actors_pd['cast'].str.contains(actor_name)]\n",
    "selected_actor = selected_actor.reset_index(drop=True)\n",
    "moviecount = len(selected_actor.index)\n",
    "print (str(actor_name) + \" has been in \" + str(moviecount) + \" movies\")"
   ]
  },
  {
   "cell_type": "code",
   "execution_count": null,
   "metadata": {},
   "outputs": [],
   "source": [
    "print (str(actor_name) + \" has been in the following movies\")\n",
    "selected_actor[\"title\"]"
   ]
  }
 ],
 "metadata": {
  "kernelspec": {
   "display_name": "Python 3",
   "language": "python",
   "name": "python3"
  },
  "language_info": {
   "codemirror_mode": {
    "name": "ipython",
    "version": 3
   },
   "file_extension": ".py",
   "mimetype": "text/x-python",
   "name": "python",
   "nbconvert_exporter": "python",
   "pygments_lexer": "ipython3",
   "version": "3.6.4"
  }
 },
 "nbformat": 4,
 "nbformat_minor": 2
}
